{
 "cells": [
  {
   "cell_type": "code",
   "execution_count": 27,
   "metadata": {},
   "outputs": [],
   "source": [
    "import numpy as np\n",
    "import pandas as pd\n",
    "import matplotlib.pyplot as plt\n",
    "from sklearn.neighbors import KNeighborsClassifier\n",
    "from sklearn.metrics import accuracy_score, confusion_matrix\n",
    "from sklearn.model_selection import train_test_split\n",
    "import random\n",
    "import math\n",
    "import string\n",
    "\n",
    "data = pd.read_csv('A_Z Handwritten Data.csv') # wczytywanie datasetu"
   ]
  },
  {
   "cell_type": "code",
   "execution_count": 28,
   "metadata": {},
   "outputs": [
    {
     "data": {
      "text/plain": [
       "0     13869\n",
       "1      8668\n",
       "2     23409\n",
       "3     10134\n",
       "4     11440\n",
       "5      1163\n",
       "6      5762\n",
       "7      7218\n",
       "8      1120\n",
       "9      8493\n",
       "10     5603\n",
       "11    11586\n",
       "12    12336\n",
       "13    19010\n",
       "14    57825\n",
       "15    19341\n",
       "16     5812\n",
       "17    11566\n",
       "18    48419\n",
       "19    22495\n",
       "20    29008\n",
       "21     4182\n",
       "22    10784\n",
       "23     6272\n",
       "24    10859\n",
       "25     6076\n",
       "Name: 0, dtype: int64"
      ]
     },
     "execution_count": 28,
     "metadata": {},
     "output_type": "execute_result"
    }
   ],
   "source": [
    "data[data.columns[0]].value_counts().sort_index(ascending=True)"
   ]
  },
  {
   "cell_type": "code",
   "execution_count": 29,
   "metadata": {},
   "outputs": [],
   "source": [
    "label = {0:'A',1:'B',2:'C',3:'D',4:'E',5:'F',\n",
    "         6:'G',7:'H',8:'I',9:'J',10:'K',11:'L',\n",
    "         12:'M',13:'N',14:'O',15:'P',16:'Q',17:'R',\n",
    "         18:'S',19:'T',20:'U',21:'V',22:'W',23:'X',24:'Y',25:'Z'} # ustalenie jaka litera kryje się pod danym indexem\n",
    "\n",
    "data.iloc[:,0] = data.iloc[:,0].map(label) # odniesienie do, iloc[: (wszystkie wiersze), 0 (pierwsza kolumna)] i zmapowanie na nowe wartości opisane przez label"
   ]
  },
  {
   "cell_type": "code",
   "execution_count": 30,
   "metadata": {},
   "outputs": [
    {
     "data": {
      "text/plain": [
       "A    13869\n",
       "B     8668\n",
       "C    23409\n",
       "D    10134\n",
       "E    11440\n",
       "F     1163\n",
       "G     5762\n",
       "H     7218\n",
       "I     1120\n",
       "J     8493\n",
       "K     5603\n",
       "L    11586\n",
       "M    12336\n",
       "N    19010\n",
       "O    57825\n",
       "P    19341\n",
       "Q     5812\n",
       "R    11566\n",
       "S    48419\n",
       "T    22495\n",
       "U    29008\n",
       "V     4182\n",
       "W    10784\n",
       "X     6272\n",
       "Y    10859\n",
       "Z     6076\n",
       "Name: 0, dtype: int64"
      ]
     },
     "execution_count": 30,
     "metadata": {},
     "output_type": "execute_result"
    }
   ],
   "source": [
    "data[data.columns[0]].value_counts().sort_index(ascending=True)"
   ]
  },
  {
   "cell_type": "code",
   "execution_count": 31,
   "metadata": {},
   "outputs": [
    {
     "data": {
      "text/plain": [
       "A    50\n",
       "B    50\n",
       "C    50\n",
       "D    50\n",
       "E    50\n",
       "F    50\n",
       "G    50\n",
       "H    50\n",
       "I    50\n",
       "J    50\n",
       "K    50\n",
       "L    50\n",
       "M    50\n",
       "N    50\n",
       "O    50\n",
       "P    50\n",
       "Q    50\n",
       "R    50\n",
       "S    50\n",
       "T    50\n",
       "U    50\n",
       "V    50\n",
       "W    50\n",
       "X    50\n",
       "Y    50\n",
       "Z    50\n",
       "Name: 0, dtype: int64"
      ]
     },
     "execution_count": 31,
     "metadata": {},
     "output_type": "execute_result"
    }
   ],
   "source": [
    "row_count = data['0'].value_counts() # pobieranie liczby wierszy dla danej kategorii\n",
    "min_row_count = row_count.min()\n",
    "\n",
    "short_data = data.groupby('0').apply(lambda x: x.sample(n=50, replace=False))\n",
    "\n",
    "short_data = short_data.reset_index(drop=True) #resetowanie indeksacji dataframeu\n",
    "\n",
    "short_data[short_data.columns[0]].value_counts().sort_index(ascending=True)"
   ]
  },
  {
   "cell_type": "code",
   "execution_count": 32,
   "metadata": {},
   "outputs": [
    {
     "name": "stderr",
     "output_type": "stream",
     "text": [
      "C:\\Users\\dawid\\AppData\\Local\\Temp\\ipykernel_12772\\1272341676.py:14: FutureWarning: The frame.append method is deprecated and will be removed from pandas in a future version. Use pandas.concat instead.\n",
      "  short_data = short_data.append(data.loc[i], ignore_index=True)\n"
     ]
    },
    {
     "data": {
      "text/plain": [
       "A    50\n",
       "B    50\n",
       "C    50\n",
       "D    50\n",
       "E    50\n",
       "F    50\n",
       "G    50\n",
       "H    50\n",
       "I    50\n",
       "J    50\n",
       "K    50\n",
       "L    50\n",
       "M    50\n",
       "N    50\n",
       "O    50\n",
       "P    50\n",
       "Q    50\n",
       "R    50\n",
       "S    50\n",
       "T    50\n",
       "U    50\n",
       "V    50\n",
       "W    50\n",
       "X    50\n",
       "Y    50\n",
       "Z    50\n",
       "Name: 0, dtype: int64"
      ]
     },
     "execution_count": 32,
     "metadata": {},
     "output_type": "execute_result"
    }
   ],
   "source": [
    "short_data = pd.DataFrame(columns=data.columns)\n",
    "\n",
    "lw = {}\n",
    "\n",
    "for letter in string.ascii_uppercase:\n",
    "        lw[letter] = 0\n",
    "\n",
    "for i in range(len(data)):\n",
    "    \n",
    "    elem = data.loc[i][0]\n",
    "    #print(elem, \" \", lw[elem])\n",
    "\n",
    "    if lw[elem] < 50:\n",
    "        short_data = short_data.append(data.loc[i], ignore_index=True)\n",
    "        lw[elem] += 1\n",
    "\n",
    "short_data[short_data.columns[0]].value_counts().sort_index(ascending=True)"
   ]
  },
  {
   "cell_type": "code",
   "execution_count": 33,
   "metadata": {},
   "outputs": [],
   "source": [
    "#row_count = short_data['0'].value_counts()\n",
    "#print(row_count)"
   ]
  },
  {
   "cell_type": "code",
   "execution_count": 34,
   "metadata": {},
   "outputs": [
    {
     "name": "stderr",
     "output_type": "stream",
     "text": [
      "C:\\Users\\dawid\\AppData\\Local\\Temp\\ipykernel_12772\\234132351.py:5: FutureWarning: The frame.append method is deprecated and will be removed from pandas in a future version. Use pandas.concat instead.\n",
      "  short_data = short_data.append(data.loc[i], ignore_index=True)\n"
     ]
    },
    {
     "data": {
      "text/plain": [
       "A     47\n",
       "B     29\n",
       "C     78\n",
       "D     33\n",
       "E     39\n",
       "F      3\n",
       "G     20\n",
       "H     24\n",
       "I      3\n",
       "J     29\n",
       "K     18\n",
       "L     39\n",
       "M     41\n",
       "N     64\n",
       "O    192\n",
       "P     65\n",
       "Q     19\n",
       "R     39\n",
       "S    161\n",
       "T     75\n",
       "U     97\n",
       "V     14\n",
       "W     36\n",
       "X     21\n",
       "Y     36\n",
       "Z     20\n",
       "Name: 0, dtype: int64"
      ]
     },
     "execution_count": 34,
     "metadata": {},
     "output_type": "execute_result"
    }
   ],
   "source": [
    "short_data = pd.DataFrame(columns=data.columns)\n",
    "\n",
    "for i in range(len(data)):\n",
    "    if i % 300 == 0:\n",
    "        short_data = short_data.append(data.loc[i], ignore_index=True)\n",
    "\n",
    "short_data[short_data.columns[0]].value_counts().sort_index(ascending=True)"
   ]
  }
 ],
 "metadata": {
  "kernelspec": {
   "display_name": "Python 3",
   "language": "python",
   "name": "python3"
  },
  "language_info": {
   "codemirror_mode": {
    "name": "ipython",
    "version": 3
   },
   "file_extension": ".py",
   "mimetype": "text/x-python",
   "name": "python",
   "nbconvert_exporter": "python",
   "pygments_lexer": "ipython3",
   "version": "3.9.7"
  },
  "orig_nbformat": 4
 },
 "nbformat": 4,
 "nbformat_minor": 2
}
