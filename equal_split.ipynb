{
 "cells": [
  {
   "cell_type": "code",
   "execution_count": 54,
   "metadata": {},
   "outputs": [],
   "source": [
    "import numpy as np\n",
    "import pandas as pd\n",
    "import matplotlib.pyplot as plt\n",
    "from sklearn.neighbors import KNeighborsClassifier\n",
    "from sklearn.metrics import accuracy_score, confusion_matrix\n",
    "from sklearn.model_selection import train_test_split\n",
    "import random\n",
    "import math\n",
    "import string\n",
    "\n",
    "data = pd.read_csv('A_Z Handwritten Data.csv') # wczytywanie datasetu"
   ]
  },
  {
   "cell_type": "code",
   "execution_count": 55,
   "metadata": {},
   "outputs": [],
   "source": [
    "label = {0:'A',1:'B',2:'C',3:'D',4:'E',5:'F',\n",
    "         6:'G',7:'H',8:'I',9:'J',10:'K',11:'L',\n",
    "         12:'M',13:'N',14:'O',15:'P',16:'Q',17:'R',\n",
    "         18:'S',19:'T',20:'U',21:'V',22:'W',23:'X',24:'Y',25:'Z'} # ustalenie jaka litera kryje się pod danym indexem\n",
    "\n",
    "data.iloc[:,0] = data.iloc[:,0].map(label) # odniesienie do, iloc[: (wszystkie wiersze), 0 (pierwsza kolumna)] i zmapowanie na nowe wartości opisane przez label"
   ]
  },
  {
   "cell_type": "code",
   "execution_count": 56,
   "metadata": {},
   "outputs": [
    {
     "data": {
      "text/plain": [
       "(1300, 785)"
      ]
     },
     "execution_count": 56,
     "metadata": {},
     "output_type": "execute_result"
    }
   ],
   "source": [
    "row_count = data['0'].value_counts() # pobieranie liczby wierszy dla danej kategorii\n",
    "min_row_count = row_count.min()\n",
    "\n",
    "short_data = data.groupby('0').apply(lambda x: x.sample(n=50, replace=False))\n",
    "\n",
    "short_data = short_data.reset_index(drop=True) #resetowanie indeksacji dataframeu\n",
    "\n",
    "short_data.shape"
   ]
  },
  {
   "cell_type": "code",
   "execution_count": 57,
   "metadata": {},
   "outputs": [
    {
     "name": "stderr",
     "output_type": "stream",
     "text": [
      "C:\\Users\\dawid\\AppData\\Local\\Temp\\ipykernel_4300\\3456566554.py:14: FutureWarning: The frame.append method is deprecated and will be removed from pandas in a future version. Use pandas.concat instead.\n",
      "  short_data = short_data.append(data.loc[i], ignore_index=True)\n"
     ]
    },
    {
     "data": {
      "text/plain": [
       "(1300, 785)"
      ]
     },
     "execution_count": 57,
     "metadata": {},
     "output_type": "execute_result"
    }
   ],
   "source": [
    "short_data = pd.DataFrame(columns=data.columns)\n",
    "\n",
    "lw = {}\n",
    "\n",
    "for letter in string.ascii_uppercase:\n",
    "        lw[letter] = 0\n",
    "\n",
    "for i in range(len(data)):\n",
    "    \n",
    "    elem = data.loc[i][0]\n",
    "    #print(elem, \" \", lw[elem])\n",
    "\n",
    "    if lw[elem] < 50:\n",
    "        short_data = short_data.append(data.loc[i], ignore_index=True)\n",
    "        lw[elem] += 1\n",
    "\n",
    "short_data.shape"
   ]
  },
  {
   "cell_type": "code",
   "execution_count": 52,
   "metadata": {},
   "outputs": [
    {
     "name": "stdout",
     "output_type": "stream",
     "text": [
      "A    10\n",
      "B    10\n",
      "Y    10\n",
      "X    10\n",
      "W    10\n",
      "V    10\n",
      "U    10\n",
      "T    10\n",
      "S    10\n",
      "R    10\n",
      "Q    10\n",
      "P    10\n",
      "O    10\n",
      "N    10\n",
      "M    10\n",
      "L    10\n",
      "K    10\n",
      "J    10\n",
      "I    10\n",
      "H    10\n",
      "G    10\n",
      "F    10\n",
      "E    10\n",
      "D    10\n",
      "C    10\n",
      "Z    10\n",
      "Name: 0, dtype: int64\n"
     ]
    }
   ],
   "source": [
    "#row_count = short_data['0'].value_counts()\n",
    "#print(row_count)"
   ]
  },
  {
   "cell_type": "code",
   "execution_count": 58,
   "metadata": {},
   "outputs": [
    {
     "name": "stderr",
     "output_type": "stream",
     "text": [
      "C:\\Users\\dawid\\AppData\\Local\\Temp\\ipykernel_4300\\139652580.py:5: FutureWarning: The frame.append method is deprecated and will be removed from pandas in a future version. Use pandas.concat instead.\n",
      "  short_data = short_data.append(data.loc[i], ignore_index=True)\n"
     ]
    },
    {
     "data": {
      "text/plain": [
       "(1242, 785)"
      ]
     },
     "execution_count": 58,
     "metadata": {},
     "output_type": "execute_result"
    }
   ],
   "source": [
    "short_data = pd.DataFrame(columns=data.columns)\n",
    "\n",
    "for i in range(len(data)):\n",
    "    if i % 300 == 0:\n",
    "        short_data = short_data.append(data.loc[i], ignore_index=True)\n",
    "\n",
    "short_data.shape"
   ]
  }
 ],
 "metadata": {
  "kernelspec": {
   "display_name": "Python 3",
   "language": "python",
   "name": "python3"
  },
  "language_info": {
   "codemirror_mode": {
    "name": "ipython",
    "version": 3
   },
   "file_extension": ".py",
   "mimetype": "text/x-python",
   "name": "python",
   "nbconvert_exporter": "python",
   "pygments_lexer": "ipython3",
   "version": "3.9.7"
  },
  "orig_nbformat": 4
 },
 "nbformat": 4,
 "nbformat_minor": 2
}
