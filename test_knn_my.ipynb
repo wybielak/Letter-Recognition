{
 "cells": [
  {
   "cell_type": "code",
   "execution_count": 69,
   "metadata": {},
   "outputs": [],
   "source": [
    "import numpy as np\n",
    "import pandas as pd\n",
    "import matplotlib.pyplot as plt\n",
    "from sklearn.neighbors import KNeighborsClassifier\n",
    "from sklearn.metrics import accuracy_score, confusion_matrix\n",
    "from sklearn.model_selection import train_test_split\n",
    "import random\n",
    "import math\n",
    "\n",
    "data = pd.read_csv('A_Z Handwritten Data.csv') # wczytywanie datasetu"
   ]
  },
  {
   "cell_type": "code",
   "execution_count": 70,
   "metadata": {},
   "outputs": [],
   "source": [
    "label = {0:'A',1:'B',2:'C',3:'D',4:'E',5:'F',\n",
    "         6:'G',7:'H',8:'I',9:'J',10:'K',11:'L',\n",
    "         12:'M',13:'N',14:'O',15:'P',16:'Q',17:'R',\n",
    "         18:'S',19:'T',20:'U',21:'V',22:'W',23:'X',24:'Y',25:'Z'} # ustalenie jaka litera kryje się pod danym indexem\n",
    "\n",
    "data.iloc[:,0] = data.iloc[:,0].map(label) # odniesienie do, iloc[: (wszystkie wiersze), 0 (pierwsza kolumna)] i zmapowanie na nowe wartości opisane przez label"
   ]
  },
  {
   "cell_type": "code",
   "execution_count": 71,
   "metadata": {},
   "outputs": [
    {
     "name": "stderr",
     "output_type": "stream",
     "text": [
      "C:\\Users\\dawid\\AppData\\Local\\Temp\\ipykernel_11780\\2910410847.py:5: FutureWarning: The frame.append method is deprecated and will be removed from pandas in a future version. Use pandas.concat instead.\n",
      "  short_data = short_data.append(data.loc[i], ignore_index=True) #pd.concat([short_data, data.loc[i]], ignore_index=True)\n"
     ]
    },
    {
     "data": {
      "text/plain": [
       "(745, 785)"
      ]
     },
     "execution_count": 71,
     "metadata": {},
     "output_type": "execute_result"
    }
   ],
   "source": [
    "short_data = pd.DataFrame(columns=data.columns)\n",
    "\n",
    "for i in range(len(data)):\n",
    "    if i % 500 == 0:\n",
    "        short_data = short_data.append(data.loc[i], ignore_index=True) #pd.concat([short_data, data.loc[i]], ignore_index=True)\n",
    "\n",
    "short_data.shape"
   ]
  },
  {
   "cell_type": "code",
   "execution_count": 72,
   "metadata": {},
   "outputs": [],
   "source": [
    "class DataProcessing:\n",
    "    @staticmethod\n",
    "    def shuffling(data_list):\n",
    "        for i in range(len(data_list)-1,0,-1):\n",
    "            index = random.randint(0,i-1)\n",
    "            data_list.loc[i], data_list.loc[index] = data_list.loc[index], data_list.loc[i]\n",
    "\n",
    "    @staticmethod\n",
    "    def train_test_split(data_list,prc):\n",
    "        train_len = round((len(data_list)) * prc)\n",
    "        #test_len = round((len(data_list)) * 0.4)\n",
    "        \n",
    "        train = data_list[0:train_len]\n",
    "        test = data_list[train_len:len(data_list)]\n",
    "\n",
    "        test = test.reset_index(drop=True) #resetowanie indeksacji dataframeu\n",
    "\n",
    "        return train, test\n",
    "    \n",
    "    @staticmethod\n",
    "    def label_split(data_list):\n",
    "        feature_list = []\n",
    "        label_list = []\n",
    "\n",
    "        sum = 0\n",
    "        for col in data_list.columns:\n",
    "            if col != '0':\n",
    "                sum +=1\n",
    "        \n",
    "        for i in range(len(data_list)):\n",
    "            feature_list.append(data_list.loc[i].to_list()[len(data_list.columns)-sum:])\n",
    "\n",
    "        for i in range(len(data_list)):\n",
    "            label_list.append(data_list.loc[i].to_list()[:len(data_list.columns)-sum])\n",
    "        \n",
    "        return feature_list, label_list"
   ]
  },
  {
   "cell_type": "code",
   "execution_count": 73,
   "metadata": {},
   "outputs": [
    {
     "name": "stdout",
     "output_type": "stream",
     "text": [
      "     0 0.1 0.2 0.3 0.4 0.5 0.6 0.7 0.8 0.9  ... 0.639 0.640 0.641 0.642 0.643  \\\n",
      "0    A   0   0   0   0   0   0   0   0   0  ...     0     0     0     0     0   \n",
      "1    A   0   0   0   0   0   0   0   0   0  ...     0     0     0     0     0   \n",
      "2    A   0   0   0   0   0   0   0   0   0  ...     0     0     0     0     0   \n",
      "3    A   0   0   0   0   0   0   0   0   0  ...     0     0     0     0     0   \n",
      "4    A   0   0   0   0   0   0   0   0   0  ...     0     0     0     0     0   \n",
      "..  ..  ..  ..  ..  ..  ..  ..  ..  ..  ..  ...   ...   ...   ...   ...   ...   \n",
      "740  Z   0   0   0   0   0   0   0   0   0  ...     0     0     0     0     0   \n",
      "741  Z   0   0   0   0   0   0   0   0   0  ...     0     0     0     0     0   \n",
      "742  Z   0   0   0   0   0   0   0   0   0  ...     0     0     0     0     0   \n",
      "743  Z   0   0   0   0   0   0   0   0   0  ...     0     0     0     0     0   \n",
      "744  Z   0   0   0   0   0   0   0   0   0  ...     0     0     0     0     0   \n",
      "\n",
      "    0.644 0.645 0.646 0.647 0.648  \n",
      "0       0     0     0     0     0  \n",
      "1       0     0     0     0     0  \n",
      "2       0     0     0     0     0  \n",
      "3       0     0     0     0     0  \n",
      "4       0     0     0     0     0  \n",
      "..    ...   ...   ...   ...   ...  \n",
      "740     0     0     0     0     0  \n",
      "741     0     0     0     0     0  \n",
      "742     0     0     0     0     0  \n",
      "743     0     0     0     0     0  \n",
      "744     0     0     0     0     0  \n",
      "\n",
      "[745 rows x 785 columns]\n"
     ]
    }
   ],
   "source": [
    "print(short_data)"
   ]
  },
  {
   "cell_type": "code",
   "execution_count": 74,
   "metadata": {},
   "outputs": [],
   "source": [
    "DataProcessing.shuffling(short_data)\n",
    "\n",
    "train_data, test_data = DataProcessing.train_test_split(short_data, 0.6)"
   ]
  },
  {
   "cell_type": "code",
   "execution_count": 75,
   "metadata": {},
   "outputs": [],
   "source": [
    "def Minkowski_dist(x,y,m):\n",
    "    res=0\n",
    "    for i in range(len(x)):\n",
    "        res += (abs(x[i] - y[i]))**m\n",
    "\n",
    "    res = math.pow(res,1.0/m)\n",
    "\n",
    "    return res\n",
    "\n",
    "def KNN_algorithm(list, data, k, m):\n",
    "\n",
    "    distances = []\n",
    "\n",
    "    feature_list, label_list = DataProcessing.label_split(list)\n",
    "\n",
    "    for i, elem in enumerate(feature_list):\n",
    "       distances.append([Minkowski_dist(elem,data,m),i])\n",
    "\n",
    "    distances = sorted(distances)\n",
    "\n",
    "    k_dist = distances[:k]\n",
    "\n",
    "    lw={}\n",
    "\n",
    "    for x in label_list:\n",
    "        lw[x[0]] = 0\n",
    "\n",
    "    #print(lw)\n",
    "\n",
    "    for elem in k_dist:\n",
    "        lw[label_list[elem[1]][0]] += 1\n",
    "\n",
    "    #print(lw)\n",
    "\n",
    "    max_elem = float(\"-inf\")\n",
    "\n",
    "    for elem in lw:\n",
    "        if lw[elem] > max_elem:\n",
    "            max_elem = lw[elem]\n",
    "            category = elem\n",
    "\n",
    "    return category"
   ]
  },
  {
   "cell_type": "code",
   "execution_count": 76,
   "metadata": {},
   "outputs": [
    {
     "name": "stdout",
     "output_type": "stream",
     "text": [
      "k = 4, m = 2 (k - ilość sąsiadów branych pod uwagę)\n",
      "All: 297, good: 157, bad: 140\n",
      "Test statistic: 52.86%\n"
     ]
    }
   ],
   "source": [
    "all=0\n",
    "good=0\n",
    "bad=0\n",
    "\n",
    "sum = 0\n",
    "for col in short_data.columns:\n",
    "    if col != \"0\":\n",
    "        sum +=1\n",
    "\n",
    "for i in range(len(test_data)-1):\n",
    "\n",
    "    result = KNN_algorithm(train_data, test_data.loc[i].to_list()[len(short_data.columns)-sum:], 4, 2)\n",
    "\n",
    "    if result == test_data.loc[i].to_list()[:len(short_data.columns)-sum][0]:\n",
    "        good += 1\n",
    "    else:\n",
    "        bad += 1\n",
    "\n",
    "    all += 1\n",
    "\n",
    "print(\"k = 4, m = 2 (k - ilość sąsiadów branych pod uwagę)\")\n",
    "print(f\"All: {all}, good: {good}, bad: {bad}\")\n",
    "print(f\"Test statistic: {round(good/all,4)*100}%\")"
   ]
  }
 ],
 "metadata": {
  "kernelspec": {
   "display_name": "Python 3",
   "language": "python",
   "name": "python3"
  },
  "language_info": {
   "codemirror_mode": {
    "name": "ipython",
    "version": 3
   },
   "file_extension": ".py",
   "mimetype": "text/x-python",
   "name": "python",
   "nbconvert_exporter": "python",
   "pygments_lexer": "ipython3",
   "version": "3.9.7"
  },
  "orig_nbformat": 4
 },
 "nbformat": 4,
 "nbformat_minor": 2
}
