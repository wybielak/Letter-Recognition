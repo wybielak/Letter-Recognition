{
 "cells": [
  {
   "cell_type": "code",
   "execution_count": 1,
   "metadata": {},
   "outputs": [],
   "source": [
    "import numpy as np\n",
    "import pandas as pd\n",
    "import matplotlib.pyplot as plt\n",
    "from sklearn.neighbors import KNeighborsClassifier\n",
    "from sklearn import metrics\n",
    "from sklearn.model_selection import train_test_split\n",
    "import random\n",
    "import math\n",
    "import seaborn\n",
    "\n",
    "from PIL import Image, ImageFilter\n",
    "\n",
    "data = pd.read_csv('A_Z Handwritten Data.csv') # wczytywanie datasetu"
   ]
  },
  {
   "cell_type": "code",
   "execution_count": 2,
   "metadata": {},
   "outputs": [],
   "source": [
    "class DataProcessing:\n",
    "    @staticmethod\n",
    "    def shuffling(data_list):\n",
    "        for i in range(len(data_list)-1,0,-1):\n",
    "            index = random.randint(0,i-1)\n",
    "            data_list.loc[i], data_list.loc[index] = data_list.loc[index], data_list.loc[i]\n",
    "\n",
    "    @staticmethod\n",
    "    def normalize(data_list):\n",
    "        for col in data_list.columns:\n",
    "            if col != '0':\n",
    "                for i in range(len(data_list[col])):\n",
    "                    if data_list.at[i, col] != 0:\n",
    "                        data_list.at[i, col] = 1\n",
    "\n",
    "    @staticmethod\n",
    "    def train_test_split(data_list,prc):\n",
    "        train_len = round((len(data_list)) * prc)\n",
    "        #test_len = round((len(data_list)) * 0.4)\n",
    "        \n",
    "        train = data_list[0:train_len]\n",
    "        test = data_list[train_len:len(data_list)]\n",
    "\n",
    "        test = test.reset_index(drop=True) #resetowanie indeksacji dataframeu\n",
    "\n",
    "        return train, test\n",
    "    \n",
    "    @staticmethod\n",
    "    def label_split(data_list):\n",
    "        feature_list = []\n",
    "        label_list = []\n",
    "\n",
    "        sum = 0\n",
    "        for col in data_list.columns:\n",
    "            if col != '0':\n",
    "                sum +=1\n",
    "        \n",
    "        for i in range(len(data_list)):\n",
    "            feature_list.append(data_list.loc[i].to_list()[len(data_list.columns)-sum:])\n",
    "\n",
    "        for i in range(len(data_list)):\n",
    "            label_list.append(data_list.loc[i].to_list()[:len(data_list.columns)-sum][0])\n",
    "        \n",
    "        return feature_list, label_list"
   ]
  },
  {
   "cell_type": "code",
   "execution_count": 3,
   "metadata": {},
   "outputs": [],
   "source": [
    "row_count = data['0'].value_counts() # pobieranie liczby wierszy dla danej kategorii\n",
    "min_row_count = row_count.min()\n",
    "\n",
    "short_data = data.groupby('0').apply(lambda x: x.sample(n=1, replace=False))\n",
    "\n",
    "short_data = short_data.reset_index(drop=True) #resetowanie indeksacji dataframeu"
   ]
  },
  {
   "cell_type": "code",
   "execution_count": 4,
   "metadata": {},
   "outputs": [],
   "source": [
    "#DataProcessing.normalize(short_data)"
   ]
  },
  {
   "cell_type": "code",
   "execution_count": 5,
   "metadata": {},
   "outputs": [
    {
     "data": {
      "text/plain": [
       "<matplotlib.image.AxesImage at 0x20a407abb80>"
      ]
     },
     "execution_count": 5,
     "metadata": {},
     "output_type": "execute_result"
    },
    {
     "data": {
      "image/png": "[encoded data removed]",
      "text/plain": [
       "<Figure size 640x480 with 1 Axes>"
      ]
     },
     "metadata": {},
     "output_type": "display_data"
    }
   ],
   "source": [
    "import matplotlib\n",
    "\n",
    "# podział na tabelę zawierającą tylko opisy i tylko dane\n",
    "\n",
    "x = short_data.drop(short_data.columns[0], axis=1) # dataframe z usunieta pierwszą kolumną, data.columns[0] - wybranie pierwszej kolumny, axis=1 - chcemy usunąć kolumnę\n",
    "y = short_data.iloc[:,0].copy() # Copying the label column\n",
    "\n",
    "x = np.array(x) # przekształcenie w tablicę (NumPy) wartości\n",
    "y = np.array(y) # opisów\n",
    "\n",
    "\n",
    "sample_data = x[1] # wyświetlanie wiersza w postaci graficznej\n",
    "sample_image = sample_data.reshape(28,28)\n",
    "plt.imshow(sample_image,cmap=matplotlib.cm.binary,interpolation=\"nearest\")"
   ]
  }
 ],
 "metadata": {
  "kernelspec": {
   "display_name": "Python 3",
   "language": "python",
   "name": "python3"
  },
  "language_info": {
   "codemirror_mode": {
    "name": "ipython",
    "version": 3
   },
   "file_extension": ".py",
   "mimetype": "text/x-python",
   "name": "python",
   "nbconvert_exporter": "python",
   "pygments_lexer": "ipython3",
   "version": "3.9.7"
  },
  "orig_nbformat": 4
 },
 "nbformat": 4,
 "nbformat_minor": 2
}
