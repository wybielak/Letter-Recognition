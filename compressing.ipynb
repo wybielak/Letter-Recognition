{
 "cells": [
  {
   "cell_type": "code",
   "execution_count": 67,
   "metadata": {},
   "outputs": [],
   "source": [
    "import numpy as np\n",
    "import pandas as pd\n",
    "import matplotlib.pyplot as plt\n",
    "from sklearn.neighbors import KNeighborsClassifier\n",
    "from sklearn import metrics\n",
    "from sklearn.model_selection import train_test_split\n",
    "import random\n",
    "import math\n",
    "import seaborn\n",
    "\n",
    "from PIL import Image, ImageFilter\n",
    "\n",
    "data = pd.read_csv('A_Z Handwritten Data.csv') # wczytywanie datasetu"
   ]
  },
  {
   "cell_type": "code",
   "execution_count": 68,
   "metadata": {},
   "outputs": [],
   "source": [
    "class DataProcessing:\n",
    "    @staticmethod\n",
    "    def shuffling(data_list):\n",
    "        for i in range(len(data_list)-1,0,-1):\n",
    "            index = random.randint(0,i-1)\n",
    "            data_list.loc[i], data_list.loc[index] = data_list.loc[index], data_list.loc[i]\n",
    "\n",
    "    @staticmethod\n",
    "    def normalize(data_list):\n",
    "        for col in data_list.columns:\n",
    "            if col != '0':\n",
    "                for i in range(len(data_list[col])):\n",
    "                    if data_list.at[i, col] != 0:\n",
    "                        data_list.at[i, col] = 1\n",
    "\n",
    "    @staticmethod\n",
    "    def train_test_split(data_list,prc):\n",
    "        train_len = round((len(data_list)) * prc)\n",
    "        #test_len = round((len(data_list)) * 0.4)\n",
    "        \n",
    "        train = data_list[0:train_len]\n",
    "        test = data_list[train_len:len(data_list)]\n",
    "\n",
    "        test = test.reset_index(drop=True) #resetowanie indeksacji dataframeu\n",
    "\n",
    "        return train, test\n",
    "    \n",
    "    @staticmethod\n",
    "    def label_split(data_list):\n",
    "        feature_list = []\n",
    "        label_list = []\n",
    "\n",
    "        sum = 0\n",
    "        for col in data_list.columns:\n",
    "            if col != '0':\n",
    "                sum +=1\n",
    "        \n",
    "        for i in range(len(data_list)):\n",
    "            feature_list.append(data_list.loc[i].to_list()[len(data_list.columns)-sum:])\n",
    "\n",
    "        for i in range(len(data_list)):\n",
    "            label_list.append(data_list.loc[i].to_list()[:len(data_list.columns)-sum][0])\n",
    "        \n",
    "        return feature_list, label_list"
   ]
  },
  {
   "cell_type": "code",
   "execution_count": 69,
   "metadata": {},
   "outputs": [],
   "source": [
    "row_count = data['0'].value_counts() # pobieranie liczby wierszy dla danej kategorii\n",
    "min_row_count = row_count.min()\n",
    "\n",
    "short_data = data.groupby('0').apply(lambda x: x.sample(n=1, replace=False))\n",
    "\n",
    "short_data = short_data.reset_index(drop=True) #resetowanie indeksacji dataframeu"
   ]
  },
  {
   "cell_type": "code",
   "execution_count": 70,
   "metadata": {},
   "outputs": [],
   "source": [
    "DataProcessing.normalize(short_data)"
   ]
  },
  {
   "cell_type": "code",
   "execution_count": 71,
   "metadata": {},
   "outputs": [
    {
     "data": {
      "text/plain": [
       "<matplotlib.image.AxesImage at 0x1c05f0f95e0>"
      ]
     },
     "execution_count": 71,
     "metadata": {},
     "output_type": "execute_result"
    },
    {
     "data": {
      "image/png": "[encoded data removed]",
      "text/plain": [
       "<Figure size 640x480 with 1 Axes>"
      ]
     },
     "metadata": {},
     "output_type": "display_data"
    }
   ],
   "source": [
    "import matplotlib\n",
    "\n",
    "# podział na tabelę zawierającą tylko opisy i tylko dane\n",
    "\n",
    "x = short_data.drop(short_data.columns[0], axis=1) # dataframe z usunieta pierwszą kolumną, data.columns[0] - wybranie pierwszej kolumny, axis=1 - chcemy usunąć kolumnę\n",
    "y = short_data.iloc[:,0].copy() # Copying the label column\n",
    "\n",
    "x = np.array(x) # przekształcenie w tablicę (NumPy) wartości\n",
    "y = np.array(y) # opisów\n",
    "\n",
    "\n",
    "sample_data = x[1] # wyświetlanie wiersza w postaci graficznej\n",
    "sample_image = sample_data.reshape(28,28)\n",
    "plt.imshow(sample_image,cmap=matplotlib.cm.binary,interpolation=\"nearest\")"
   ]
  },
  {
   "cell_type": "code",
   "execution_count": 72,
   "metadata": {},
   "outputs": [
    {
     "ename": "IndexError",
     "evalue": "single positional indexer is out-of-bounds",
     "output_type": "error",
     "traceback": [
      "\u001b[1;31m---------------------------------------------------------------------------\u001b[0m",
      "\u001b[1;31mIndexError\u001b[0m                                Traceback (most recent call last)",
      "Cell \u001b[1;32mIn[72], line 2\u001b[0m\n\u001b[0;32m      1\u001b[0m \u001b[39mfor\u001b[39;00m i \u001b[39min\u001b[39;00m \u001b[39mrange\u001b[39m(\u001b[39m26\u001b[39m):\n\u001b[1;32m----> 2\u001b[0m     dd \u001b[39m=\u001b[39m short_data[short_data[\u001b[39m'\u001b[39;49m\u001b[39m0\u001b[39;49m\u001b[39m'\u001b[39;49m]\u001b[39m==\u001b[39;49mi]\u001b[39m.\u001b[39;49miloc[\u001b[39m1\u001b[39;49m]\n\u001b[0;32m      3\u001b[0m     x \u001b[39m=\u001b[39m dd[\u001b[39m1\u001b[39m:]\u001b[39m.\u001b[39mvalues\n\u001b[0;32m      4\u001b[0m     x \u001b[39m=\u001b[39m x\u001b[39m.\u001b[39mreshape((\u001b[39m28\u001b[39m, \u001b[39m28\u001b[39m))\n",
      "File \u001b[1;32mc:\\Users\\dawid\\AppData\\Local\\Programs\\Python\\Python39\\lib\\site-packages\\pandas\\core\\indexing.py:1073\u001b[0m, in \u001b[0;36m_LocationIndexer.__getitem__\u001b[1;34m(self, key)\u001b[0m\n\u001b[0;32m   1070\u001b[0m axis \u001b[39m=\u001b[39m \u001b[39mself\u001b[39m\u001b[39m.\u001b[39maxis \u001b[39mor\u001b[39;00m \u001b[39m0\u001b[39m\n\u001b[0;32m   1072\u001b[0m maybe_callable \u001b[39m=\u001b[39m com\u001b[39m.\u001b[39mapply_if_callable(key, \u001b[39mself\u001b[39m\u001b[39m.\u001b[39mobj)\n\u001b[1;32m-> 1073\u001b[0m \u001b[39mreturn\u001b[39;00m \u001b[39mself\u001b[39;49m\u001b[39m.\u001b[39;49m_getitem_axis(maybe_callable, axis\u001b[39m=\u001b[39;49maxis)\n",
      "File \u001b[1;32mc:\\Users\\dawid\\AppData\\Local\\Programs\\Python\\Python39\\lib\\site-packages\\pandas\\core\\indexing.py:1625\u001b[0m, in \u001b[0;36m_iLocIndexer._getitem_axis\u001b[1;34m(self, key, axis)\u001b[0m\n\u001b[0;32m   1622\u001b[0m     \u001b[39mraise\u001b[39;00m \u001b[39mTypeError\u001b[39;00m(\u001b[39m\"\u001b[39m\u001b[39mCannot index by location index with a non-integer key\u001b[39m\u001b[39m\"\u001b[39m)\n\u001b[0;32m   1624\u001b[0m \u001b[39m# validate the location\u001b[39;00m\n\u001b[1;32m-> 1625\u001b[0m \u001b[39mself\u001b[39;49m\u001b[39m.\u001b[39;49m_validate_integer(key, axis)\n\u001b[0;32m   1627\u001b[0m \u001b[39mreturn\u001b[39;00m \u001b[39mself\u001b[39m\u001b[39m.\u001b[39mobj\u001b[39m.\u001b[39m_ixs(key, axis\u001b[39m=\u001b[39maxis)\n",
      "File \u001b[1;32mc:\\Users\\dawid\\AppData\\Local\\Programs\\Python\\Python39\\lib\\site-packages\\pandas\\core\\indexing.py:1557\u001b[0m, in \u001b[0;36m_iLocIndexer._validate_integer\u001b[1;34m(self, key, axis)\u001b[0m\n\u001b[0;32m   1555\u001b[0m len_axis \u001b[39m=\u001b[39m \u001b[39mlen\u001b[39m(\u001b[39mself\u001b[39m\u001b[39m.\u001b[39mobj\u001b[39m.\u001b[39m_get_axis(axis))\n\u001b[0;32m   1556\u001b[0m \u001b[39mif\u001b[39;00m key \u001b[39m>\u001b[39m\u001b[39m=\u001b[39m len_axis \u001b[39mor\u001b[39;00m key \u001b[39m<\u001b[39m \u001b[39m-\u001b[39mlen_axis:\n\u001b[1;32m-> 1557\u001b[0m     \u001b[39mraise\u001b[39;00m \u001b[39mIndexError\u001b[39;00m(\u001b[39m\"\u001b[39m\u001b[39msingle positional indexer is out-of-bounds\u001b[39m\u001b[39m\"\u001b[39m)\n",
      "\u001b[1;31mIndexError\u001b[0m: single positional indexer is out-of-bounds"
     ]
    }
   ],
   "source": [
    "for i in range(26):\n",
    "    dd = short_data[short_data['0']==i].iloc[1]\n",
    "    x = dd[1:].values\n",
    "    x = x.reshape((28, 28))\n",
    "    im = plt.subplot(5, 6, i+1)\n",
    "    im.imshow(x, cmap='gray')"
   ]
  }
 ],
 "metadata": {
  "kernelspec": {
   "display_name": "Python 3",
   "language": "python",
   "name": "python3"
  },
  "language_info": {
   "codemirror_mode": {
    "name": "ipython",
    "version": 3
   },
   "file_extension": ".py",
   "mimetype": "text/x-python",
   "name": "python",
   "nbconvert_exporter": "python",
   "pygments_lexer": "ipython3",
   "version": "3.9.7"
  },
  "orig_nbformat": 4
 },
 "nbformat": 4,
 "nbformat_minor": 2
}
